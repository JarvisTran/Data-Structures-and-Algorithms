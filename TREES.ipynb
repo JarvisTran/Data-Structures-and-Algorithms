{
 "cells": [
  {
   "cell_type": "markdown",
   "id": "e0e2bd5a",
   "metadata": {},
   "source": [
    "# Tree Representation Implementation\n"
   ]
  },
  {
   "cell_type": "code",
   "execution_count": 25,
   "id": "c2cf3319",
   "metadata": {},
   "outputs": [],
   "source": [
    "def BinaryTree(r):\n",
    "    return [r,[],[]]\n",
    "    "
   ]
  },
  {
   "cell_type": "code",
   "execution_count": 26,
   "id": "4acf61b5",
   "metadata": {},
   "outputs": [],
   "source": [
    "def insertLeft(root, newBranch):\n",
    "    t = root.pop(1)\n",
    "    \n",
    "    if len(t) > 1:\n",
    "        root.insert(1,[newBranch,t,[]])\n",
    "    else:\n",
    "        root.insert(1,[newBranch,[],[]])\n",
    "        \n",
    "    return root"
   ]
  },
  {
   "cell_type": "code",
   "execution_count": 27,
   "id": "c7d7f754",
   "metadata": {},
   "outputs": [],
   "source": [
    "def insertRight(root, newBranch):\n",
    "    t = root.pop(2)\n",
    "    \n",
    "    if len(t) > 1:\n",
    "        root.insert(2,[newBranch,[],t])\n",
    "    else:\n",
    "        root.insert(2,[newBranch,[],[]])\n",
    "        \n",
    "        return root\n"
   ]
  },
  {
   "cell_type": "code",
   "execution_count": 15,
   "id": "88248399",
   "metadata": {},
   "outputs": [],
   "source": [
    "def getRootValue(root):\n",
    "    return root[0]\n",
    "\n",
    "def setRootValue(root, newValue):\n",
    "    root[0] = newValue\n",
    "    \n",
    "def getLeftChild(root):\n",
    "    return root[1]\n",
    "\n",
    "def getRightChild(root):\n",
    "    return root[2]\n"
   ]
  },
  {
   "cell_type": "code",
   "execution_count": 30,
   "id": "9fd38009",
   "metadata": {},
   "outputs": [
    {
     "name": "stdout",
     "output_type": "stream",
     "text": [
      "[3, [[9, 22, 66, 55], [[8, 11], [7, [], []], []], []], []]\n"
     ]
    }
   ],
   "source": [
    "r = BinaryTree(3)\n",
    "\n",
    "insertLeft(r,7)\n",
    "insertLeft(r,[8,11])\n",
    "insertLeft(r,[9,22,66,55])\n",
    "\n",
    "print(r)"
   ]
  },
  {
   "cell_type": "code",
   "execution_count": 17,
   "id": "859e5293",
   "metadata": {},
   "outputs": [
    {
     "name": "stdout",
     "output_type": "stream",
     "text": [
      "[3, [9, [8, [7, [], []], []], []], [2, [], [1, [], [0, [], []]]]]\n"
     ]
    }
   ],
   "source": [
    "insertRight(r,0)\n",
    "insertRight(r,1)\n",
    "insertRight(r,2)\n",
    "\n",
    "print(r)"
   ]
  },
  {
   "cell_type": "code",
   "execution_count": 18,
   "id": "03b65dbe",
   "metadata": {},
   "outputs": [
    {
     "name": "stdout",
     "output_type": "stream",
     "text": [
      "3\n"
     ]
    }
   ],
   "source": [
    "print(getRootValue(r))"
   ]
  },
  {
   "cell_type": "code",
   "execution_count": 20,
   "id": "017d1da1",
   "metadata": {},
   "outputs": [
    {
     "name": "stdout",
     "output_type": "stream",
     "text": [
      "[9, [8, [7, [], []], []], []]\n"
     ]
    }
   ],
   "source": [
    "print(getLeftChild(r))"
   ]
  },
  {
   "cell_type": "markdown",
   "id": "486a4f6c",
   "metadata": {},
   "source": [
    "# Node and References Implementation a Tree"
   ]
  },
  {
   "cell_type": "code",
   "execution_count": 56,
   "id": "ff92c64f",
   "metadata": {},
   "outputs": [],
   "source": [
    "class BinaryTree():\n",
    "    \n",
    "    def __init__(self, rootObj):\n",
    "        self.key = rootObj\n",
    "        self.leftchild = None\n",
    "        self.rightchild = None\n",
    "        \n",
    "    def insertLeft(self, newNode):\n",
    "        \n",
    "        if self.leftchild == None:\n",
    "            self.leftchild = BinaryTree(newNode)\n",
    "        else:\n",
    "            t = BinaryTree(newNode)\n",
    "            t.leftchild = self.leftchild\n",
    "            self.leftchild = t\n",
    "    \n",
    "    def insertRight(self, newNode):\n",
    "        \n",
    "        if self.rightchild == None:\n",
    "            self.rightchild = BinaryTree(newNode)\n",
    "        else:\n",
    "            t = BinaryTree(newNode)\n",
    "            t.rightchild = self.rightchild\n",
    "            self.rightchild = t\n",
    "            \n",
    "    def getRightChild(self):\n",
    "        return self.rightchild\n",
    "    \n",
    "    def getLeftChild(self):\n",
    "        return self.leftchild\n",
    "    \n",
    "    def setRootValue(self, value):\n",
    "        self.key = value\n",
    "        \n",
    "    def getRootValue(self):\n",
    "        return self.key\n",
    "        \n",
    "        \n",
    "        \n",
    "        \n",
    "        "
   ]
  },
  {
   "cell_type": "code",
   "execution_count": 57,
   "id": "67ae9d1d",
   "metadata": {},
   "outputs": [],
   "source": [
    "r = BinaryTree(5)"
   ]
  },
  {
   "cell_type": "code",
   "execution_count": 60,
   "id": "e05a0c10",
   "metadata": {},
   "outputs": [
    {
     "name": "stdout",
     "output_type": "stream",
     "text": [
      "b\n"
     ]
    }
   ],
   "source": [
    "r.insertLeft(\"b\")\n",
    "\n",
    "print(r.leftchild.key)"
   ]
  },
  {
   "cell_type": "code",
   "execution_count": 59,
   "id": "a12ffd44",
   "metadata": {},
   "outputs": [
    {
     "name": "stdout",
     "output_type": "stream",
     "text": [
      "5\n",
      "None\n"
     ]
    }
   ],
   "source": [
    "print(r.getRootValue())\n",
    "print(r.getRightChild())"
   ]
  },
  {
   "cell_type": "markdown",
   "id": "7aeb3d12",
   "metadata": {},
   "source": [
    "# Tree Traversal"
   ]
  },
  {
   "cell_type": "code",
   "execution_count": 51,
   "id": "f2d777e7",
   "metadata": {},
   "outputs": [],
   "source": [
    "class BinaryTreeTraversal(object):\n",
    "    \n",
    "    def __init__(self,value):\n",
    "        self.value = value\n",
    "        self.leftchild = None\n",
    "        self.rightchild = None\n",
    "        \n",
    "    def insertLeft(self,newNode):\n",
    "        \n",
    "        if self.leftchild == None:\n",
    "            self.leftchild = BinaryTreeTraversal(newNode)\n",
    "            \n",
    "        else:            \n",
    "            temp = BinaryTreeTraversal(newNode)\n",
    "            temp.leftchild = self.leftchild\n",
    "            self.leftchild = temp\n",
    "    def insertRight(self, newNode):\n",
    "        \n",
    "        if self.rightchild == None:\n",
    "            self.rightchild = BinaryTreeTraversal(newNode)\n",
    "        else:\n",
    "            temp = BinaryTreeTraversal(newNode)\n",
    "            temp.rightchild = self.rightchild\n",
    "            self.rightchild = temp\n",
    "            \n",
    "    def getRootVal(self):\n",
    "        return self.value\n",
    "    \n",
    "    def getLeftChild(self):\n",
    "        return self.leftchild\n",
    "    \n",
    "    def getRightChild(self):\n",
    "        return self.rightchild\n",
    "    \n",
    "    def preOrder(self):\n",
    "        print(self.value)\n",
    "        if self.leftchild:\n",
    "            self.leftchild.preOrder()\n",
    "        if self.rightchild:\n",
    "            self.rightchild.preOrder()\n",
    "    def postOrder(self):\n",
    "        if self.leftchild:\n",
    "            self.leftchild.postOrder()\n",
    "        \n",
    "        if self.rightchild:\n",
    "            self.rightchild.postOrder()\n",
    "            \n",
    "        print(self.value)\n",
    "        \n",
    "    def inOrder(self):\n",
    "        if self.leftchild:\n",
    "            self.leftchild.inOrder()\n",
    "            \n",
    "        print(self.value)\n",
    "        \n",
    "        if self.rightchild:\n",
    "            self.rightchild.inOrder()\n",
    "       \n",
    "        \n",
    "        \n",
    "def preOrder(tree):\n",
    "    #Root --> Left --> Right\n",
    "    if tree:\n",
    "        print(tree.getRootVal())\n",
    "        preOrder(tree.getLeftChild())\n",
    "        preOrder(tree.getRightChild())\n",
    "    \n",
    "def postOrder(tree):\n",
    "    #Left --> Right --> Root\n",
    "    if tree != None:\n",
    "        postOrder(tree.getLeftChild())\n",
    "        postOrder(tree.getRightChild())\n",
    "        print(tree.getRootVal())\n",
    "        \n",
    "def inOrder(tree):\n",
    "    #Left -- > Root --> Right\n",
    "    \n",
    "    if tree != None:\n",
    "        inOrder(tree.getLeftChild())\n",
    "        print(tree.getRootVal())\n",
    "        inOrder(tree.getRightChild())"
   ]
  },
  {
   "cell_type": "code",
   "execution_count": 52,
   "id": "d3b0c5c8",
   "metadata": {},
   "outputs": [
    {
     "name": "stdout",
     "output_type": "stream",
     "text": [
      "6\n",
      "7\n",
      "7\n",
      "10\n",
      "1\n",
      "2\n",
      "9\n"
     ]
    }
   ],
   "source": [
    "r = BinaryTreeTraversal(6)\n",
    "\n",
    "r.insertLeft(10)\n",
    "r.insertRight(9)\n",
    "r.insertLeft(7)\n",
    "r.insertRight(2)\n",
    "r.insertLeft(7)\n",
    "r.insertRight(1)\n",
    "preOrder(r)\n"
   ]
  },
  {
   "cell_type": "code",
   "execution_count": 53,
   "id": "14f52a8a",
   "metadata": {},
   "outputs": [
    {
     "name": "stdout",
     "output_type": "stream",
     "text": [
      "6\n",
      "7\n",
      "10\n",
      "9\n",
      "1\n",
      "7\n",
      "2\n",
      "3\n",
      "4\n"
     ]
    }
   ],
   "source": [
    "\n",
    "r = BinaryTreeTraversal(6)\n",
    "\n",
    "r.leftchild = BinaryTreeTraversal(7)\n",
    "\n",
    "r.leftchild.leftchild = BinaryTreeTraversal(10)\n",
    "r.leftchild.rightchild = BinaryTreeTraversal(9)\n",
    "\n",
    "r.rightchild = BinaryTreeTraversal(1)\n",
    "r.rightchild.leftchild = BinaryTreeTraversal(7)\n",
    "r.rightchild.rightchild = BinaryTreeTraversal(2)\n",
    "r.rightchild.rightchild.rightchild = BinaryTreeTraversal(4)\n",
    "r.rightchild.rightchild.leftchild = BinaryTreeTraversal(3)\n",
    "\n",
    "\n",
    "preOrder(r)\n",
    "\n",
    "              "
   ]
  },
  {
   "cell_type": "code",
   "execution_count": 54,
   "id": "7006a72d",
   "metadata": {},
   "outputs": [
    {
     "name": "stdout",
     "output_type": "stream",
     "text": [
      "6\n",
      "7\n",
      "10\n",
      "9\n",
      "1\n",
      "7\n",
      "2\n",
      "3\n",
      "4\n"
     ]
    }
   ],
   "source": [
    "r.preOrder()"
   ]
  },
  {
   "cell_type": "code",
   "execution_count": 55,
   "id": "2365b523",
   "metadata": {},
   "outputs": [
    {
     "name": "stdout",
     "output_type": "stream",
     "text": [
      "10\n",
      "9\n",
      "7\n",
      "7\n",
      "3\n",
      "4\n",
      "2\n",
      "1\n",
      "6\n",
      "10\n",
      "9\n",
      "7\n",
      "7\n",
      "3\n",
      "4\n",
      "2\n",
      "1\n",
      "6\n"
     ]
    }
   ],
   "source": [
    "postOrder(r)\n",
    "r.postOrder()"
   ]
  },
  {
   "cell_type": "code",
   "execution_count": 56,
   "id": "9758639e",
   "metadata": {},
   "outputs": [
    {
     "name": "stdout",
     "output_type": "stream",
     "text": [
      "10\n",
      "7\n",
      "9\n",
      "6\n",
      "7\n",
      "1\n",
      "3\n",
      "2\n",
      "4\n",
      "10\n",
      "7\n",
      "9\n",
      "6\n",
      "7\n",
      "1\n",
      "3\n",
      "2\n",
      "4\n"
     ]
    }
   ],
   "source": [
    "inOrder(r)\n",
    "r.inOrder()"
   ]
  },
  {
   "cell_type": "code",
   "execution_count": 57,
   "id": "0303ba1f",
   "metadata": {},
   "outputs": [
    {
     "name": "stdout",
     "output_type": "stream",
     "text": [
      "10\n",
      "7\n",
      "9\n",
      "22\n",
      "6\n",
      "7\n",
      "1\n",
      "3\n",
      "2\n",
      "4\n"
     ]
    }
   ],
   "source": [
    "r.insertLeft(22)\n",
    "r.inOrder()"
   ]
  },
  {
   "cell_type": "code",
   "execution_count": 58,
   "id": "c5279d38",
   "metadata": {},
   "outputs": [
    {
     "name": "stdout",
     "output_type": "stream",
     "text": [
      "10\n",
      "7\n",
      "9\n",
      "22\n",
      "6\n",
      "33\n",
      "7\n",
      "1\n",
      "3\n",
      "2\n",
      "4\n"
     ]
    }
   ],
   "source": [
    "r.insertRight(33)\n",
    "r.inOrder()"
   ]
  },
  {
   "cell_type": "code",
   "execution_count": 59,
   "id": "74fad32a",
   "metadata": {},
   "outputs": [
    {
     "name": "stdout",
     "output_type": "stream",
     "text": [
      "10\n",
      "7\n",
      "9\n",
      "22\n",
      "44\n",
      "6\n",
      "33\n",
      "7\n",
      "1\n",
      "3\n",
      "2\n",
      "4\n"
     ]
    }
   ],
   "source": [
    "r.insertLeft(44)\n",
    "r.inOrder()"
   ]
  },
  {
   "cell_type": "markdown",
   "id": "9b718d78",
   "metadata": {},
   "source": [
    "# Binary Heap"
   ]
  },
  {
   "cell_type": "code",
   "execution_count": null,
   "id": "43644269",
   "metadata": {},
   "outputs": [],
   "source": []
  }
 ],
 "metadata": {
  "kernelspec": {
   "display_name": "Python 3",
   "language": "python",
   "name": "python3"
  },
  "language_info": {
   "codemirror_mode": {
    "name": "ipython",
    "version": 3
   },
   "file_extension": ".py",
   "mimetype": "text/x-python",
   "name": "python",
   "nbconvert_exporter": "python",
   "pygments_lexer": "ipython3",
   "version": "3.8.8"
  }
 },
 "nbformat": 4,
 "nbformat_minor": 5
}
